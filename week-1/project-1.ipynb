{
 "cells": [
  {
   "cell_type": "code",
   "execution_count": 3,
   "metadata": {},
   "outputs": [],
   "source": [
    "import cv2\n",
    "import numpy as np"
   ]
  },
  {
   "cell_type": "code",
   "execution_count": 4,
   "metadata": {},
   "outputs": [],
   "source": [
    "user_images = {\n",
    "        'Adaora': ('Onaga', 'C:/Users/2122/Desktop/dikwuegbuCSC418/dikwuegbuCSC418/week-1/profiles/Adaora Ijeoma Onaga.jpg'),\n",
    "        'Chris': ('Ogbechie', 'C:/Users/2122/Desktop/dikwuegbuCSC418/dikwuegbuCSC418/week-1/profiles/Chris Ogbechie.jpg'),\n",
    "        'Darlington': ('Agholor', 'C:/Users/2122/Desktop/dikwuegbuCSC418/dikwuegbuCSC418/week-1/profiles/Darlington Agholor.jpg'),\n",
    "        'Enase': ('Okonedo', '\"C:/Users/2122/Desktop/dikwuegbuCSC418/dikwuegbuCSC418/week-1/profiles/Enase Okonedo.jpg'),\n",
    "        'Ikechukwu': ('Obiaya', '\"C:/Users/2122/Desktop/dikwuegbuCSC418/dikwuegbuCSC418/week-1/profiles/Ikechukwu Obiaya.jpg'),\n",
    "        'Ikechukwu': ('Ogbuike', 'C:/Users/2122/Desktop/dikwuegbuCSC418/dikwuegbuCSC418/week-1/profiles/Ikechukwu Don Ogbuike.png'),\n",
    "        'Nneka': ('Okekearu', 'C:/Users/2122/Desktop/dikwuegbuCSC418/dikwuegbuCSC418/week-1/profiles/Nneka Okekearu.png'),\n",
    "        'Peter': ('Bamkole', 'C:/Users/2122/Desktop/dikwuegbuCSC418/dikwuegbuCSC418/week-1/profiles/Peter Bamkole.jpg'),\n",
    "        'Sola': ('Oni', 'C:/Users/2122/Desktop/dikwuegbuCSC418/dikwuegbuCSC418/week-1/profiles/Sola Oni.jpg')\n",
    "    }"
   ]
  },
  {
   "cell_type": "code",
   "execution_count": 7,
   "metadata": {},
   "outputs": [],
   "source": [
    "def main():\n",
    "\n",
    "    username = input(\"Enter username (first name): \")\n",
    "    password = int(input(\"Enter password (sum of the number of alphabets of the surname): \"))\n",
    "\n",
    "  \n",
    "    if username in user_images:\n",
    "       \n",
    "        surname, image_path = user_images[username]\n",
    "      \n",
    "        expected_password = sum(ord(char.lower()) - ord('a') + 1 for char in surname if char.isalpha())\n",
    "\n",
    "\n",
    "      \n",
    "        if password == expected_password:\n",
    "            try:\n",
    "               \n",
    "                img = cv2.imread(image_path)\n",
    "                if img is None:\n",
    "                   print(\"Error: Unable to read image file.\")\n",
    "                else:\n",
    "                  \n",
    "                    window_name = f'{username} {surname}'\n",
    "                    cv2.imshow(window_name, img)\n",
    "                    cv2.waitKey(15000)\n",
    "                    cv2.destroyAllWindows()\n",
    "            except Exception as e:\n",
    "                print('Error:', e)\n",
    "        else:\n",
    "            print(\"Authentication failed. Invalid password.\")\n",
    "    else:\n",
    "        print(\"Authentication failed. User not found.\")"
   ]
  },
  {
   "cell_type": "code",
   "execution_count": 8,
   "metadata": {},
   "outputs": [],
   "source": [
    "if __name__ == \"__main__\":\n",
    "    main()"
   ]
  },
  {
   "cell_type": "code",
   "execution_count": null,
   "metadata": {},
   "outputs": [],
   "source": []
  }
 ],
 "metadata": {
  "kernelspec": {
   "display_name": "Python 3",
   "language": "python",
   "name": "python3"
  },
  "language_info": {
   "codemirror_mode": {
    "name": "ipython",
    "version": 3
   },
   "file_extension": ".py",
   "mimetype": "text/x-python",
   "name": "python",
   "nbconvert_exporter": "python",
   "pygments_lexer": "ipython3",
   "version": "3.12.2"
  },
  "orig_nbformat": 4
 },
 "nbformat": 4,
 "nbformat_minor": 2
}
